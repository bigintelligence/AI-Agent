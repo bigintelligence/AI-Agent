{
 "cells": [
  {
   "cell_type": "markdown",
   "id": "87244f49-618f-4068-8170-cf4c8f68fb3f",
   "metadata": {},
   "source": [
    "# Dataset\n",
    "\n",
    "requirements:\n",
    "- datasets \n",
    "- langraph \n",
    "- langchain-community \n",
    "- rank_bm25"
   ]
  },
  {
   "cell_type": "code",
   "execution_count": 36,
   "id": "b3abe703-3599-49c2-ae63-79c825b7bf93",
   "metadata": {},
   "outputs": [
    {
     "name": "stdout",
     "output_type": "stream",
     "text": [
      "Collecting rank_bm25\n",
      "  Obtaining dependency information for rank_bm25 from https://files.pythonhosted.org/packages/2a/21/f691fb2613100a62b3fa91e9988c991e9ca5b89ea31c0d3152a3210344f9/rank_bm25-0.2.2-py3-none-any.whl.metadata\n",
      "  Downloading rank_bm25-0.2.2-py3-none-any.whl.metadata (3.2 kB)\n",
      "Requirement already satisfied: numpy in c:\\dev\\ai-agent\\.venv\\lib\\site-packages (from rank_bm25) (2.2.3)\n",
      "Downloading rank_bm25-0.2.2-py3-none-any.whl (8.6 kB)\n",
      "Installing collected packages: rank_bm25\n",
      "Successfully installed rank_bm25-0.2.2\n"
     ]
    },
    {
     "name": "stderr",
     "output_type": "stream",
     "text": [
      "\n",
      "[notice] A new release of pip is available: 23.2.1 -> 25.0.1\n",
      "[notice] To update, run: python.exe -m pip install --upgrade pip\n"
     ]
    }
   ],
   "source": [
    "!pip install rank_bm25"
   ]
  },
  {
   "cell_type": "code",
   "execution_count": 1,
   "id": "b30baaf4-874c-4e06-becc-df9366c3c011",
   "metadata": {},
   "outputs": [],
   "source": [
    "from datasets import load_dataset\n",
    "from langchain.docstore.document import Document"
   ]
  },
  {
   "cell_type": "code",
   "execution_count": 2,
   "id": "ba56a3ea-ad54-44dc-a26a-0c54f29e1a86",
   "metadata": {},
   "outputs": [
    {
     "data": {
      "application/vnd.jupyter.widget-view+json": {
       "model_id": "c23485901b624c9ba04f3eb55d3bb0f6",
       "version_major": 2,
       "version_minor": 0
      },
      "text/plain": [
       "README.md:   0%|          | 0.00/371 [00:00<?, ?B/s]"
      ]
     },
     "metadata": {},
     "output_type": "display_data"
    },
    {
     "name": "stderr",
     "output_type": "stream",
     "text": [
      "C:\\dev\\AI-Agent\\.venv\\lib\\site-packages\\huggingface_hub\\file_download.py:142: UserWarning: `huggingface_hub` cache-system uses symlinks by default to efficiently store duplicated files but your machine does not support them in C:\\Users\\dante\\.cache\\huggingface\\hub\\datasets--agents-course--unit3-invitees. Caching files will still work but in a degraded version that might require more space on your disk. This warning can be disabled by setting the `HF_HUB_DISABLE_SYMLINKS_WARNING` environment variable. For more details, see https://huggingface.co/docs/huggingface_hub/how-to-cache#limitations.\n",
      "To support symlinks on Windows, you either need to activate Developer Mode or to run Python as an administrator. In order to activate developer mode, see this article: https://docs.microsoft.com/en-us/windows/apps/get-started/enable-your-device-for-development\n",
      "  warnings.warn(message)\n"
     ]
    },
    {
     "data": {
      "application/vnd.jupyter.widget-view+json": {
       "model_id": "dd2a38a2bce54befa0b631090a853364",
       "version_major": 2,
       "version_minor": 0
      },
      "text/plain": [
       "train-00000-of-00001.parquet:   0%|          | 0.00/3.32k [00:00<?, ?B/s]"
      ]
     },
     "metadata": {},
     "output_type": "display_data"
    },
    {
     "data": {
      "application/vnd.jupyter.widget-view+json": {
       "model_id": "3521aecc68554dfc8eb593ffb2192ad7",
       "version_major": 2,
       "version_minor": 0
      },
      "text/plain": [
       "Generating train split:   0%|          | 0/3 [00:00<?, ? examples/s]"
      ]
     },
     "metadata": {},
     "output_type": "display_data"
    }
   ],
   "source": [
    "# Load the dataset\n",
    "guest_dataset = load_dataset(\"agents-course/unit3-invitees\", split=\"train\")\n",
    "\n",
    "# Convert dataset entries into Document objects\n",
    "docs = [\n",
    "    Document(\n",
    "        page_content=\"\\n\".join([\n",
    "            f\"Name: {guest['name']}\",\n",
    "            f\"Relation: {guest['relation']}\",\n",
    "            f\"Description: {guest['description']}\",\n",
    "            f\"Email: {guest['email']}\"\n",
    "        ]),\n",
    "        metadata={\"name\": guest[\"name\"]}\n",
    "    )\n",
    "    for guest in guest_dataset\n",
    "]"
   ]
  },
  {
   "cell_type": "markdown",
   "id": "532a09df-7614-43d4-864f-27e0ee9e7d3e",
   "metadata": {},
   "source": [
    "# Retriever Tool"
   ]
  },
  {
   "cell_type": "code",
   "execution_count": 3,
   "id": "19db866b-b38e-4e60-93ea-4cca97bd64e9",
   "metadata": {},
   "outputs": [],
   "source": [
    "from langchain_community.retrievers import BM25Retriever\n",
    "from langchain.tools import Tool"
   ]
  },
  {
   "cell_type": "code",
   "execution_count": 37,
   "id": "da047d13-18a7-4208-98f7-a2e35615c05f",
   "metadata": {},
   "outputs": [],
   "source": [
    "bm25_retriever = BM25Retriever.from_documents(docs)\n",
    "\n",
    "def extract_text(query: str) -> str:\n",
    "    \"\"\"Retrieves detailed information about gala guests based on their name or relation.\"\"\"\n",
    "    results = bm25_retriever.invoke(query)\n",
    "    if results:\n",
    "        return \"\\n\\n\".join([doc.page_content for doc in results[:3]])\n",
    "    else:\n",
    "        return \"No matching guest information found.\"\n",
    "\n",
    "guest_info_tool = Tool(\n",
    "    name=\"guest_info_retriever\",\n",
    "    func=extract_text,\n",
    "    description=\"Retrieves detailed information about gala guests based on their name or relation.\"\n",
    ")"
   ]
  },
  {
   "cell_type": "markdown",
   "id": "6bad0e84-8686-4892-922d-f7a85666afdb",
   "metadata": {},
   "source": [
    "## test extract_text tool"
   ]
  },
  {
   "cell_type": "code",
   "execution_count": 38,
   "id": "976651aa-33b1-450d-a67f-03321c093769",
   "metadata": {},
   "outputs": [
    {
     "data": {
      "text/plain": [
       "\"Name: Ada Lovelace\\nRelation: best friend\\nDescription: Lady Ada Lovelace is my best friend. She is an esteemed mathematician and friend. She is renowned for her pioneering work in mathematics and computing, often celebrated as the first computer programmer due to her work on Charles Babbage's Analytical Engine.\\nEmail: ada.lovelace@example.com\\n\\nName: Dr. Nikola Tesla\\nRelation: old friend from university days\\nDescription: Dr. Nikola Tesla is an old friend from your university days. He's recently patented a new wireless energy transmission system and would be delighted to discuss it with you. Just remember he's passionate about pigeons, so that might make for good small talk.\\nEmail: nikola.tesla@gmail.com\\n\\nName: Marie Curie\\nRelation: no relation\\nDescription: Marie Curie was a groundbreaking physicist and chemist, famous for her research on radioactivity.\\nEmail: marie.curie@example.com\""
      ]
     },
     "execution_count": 38,
     "metadata": {},
     "output_type": "execute_result"
    }
   ],
   "source": [
    "extract_text(\"Tell me about our guest named 'Lady Ada Lovelace'.\")"
   ]
  },
  {
   "cell_type": "code",
   "execution_count": 39,
   "id": "3a8ae939-c665-444f-9e83-4a2f949801bc",
   "metadata": {},
   "outputs": [],
   "source": [
    "from typing import TypedDict, Annotated\n",
    "from langgraph.graph.message import add_messages\n",
    "from langchain_core.messages import AnyMessage, HumanMessage, AIMessage\n",
    "from langgraph.prebuilt import ToolNode\n",
    "from langgraph.graph import START, StateGraph, END\n",
    "from langgraph.prebuilt import tools_condition\n",
    "from langchain_huggingface import HuggingFaceEndpoint, ChatHuggingFace"
   ]
  },
  {
   "cell_type": "markdown",
   "id": "d741342c-9d78-4ad9-95da-f0b8d305c7c1",
   "metadata": {},
   "source": [
    "# login with huggingface"
   ]
  },
  {
   "cell_type": "code",
   "execution_count": 9,
   "id": "5610e5c7-6aec-4287-b989-cf0fd23879f5",
   "metadata": {},
   "outputs": [
    {
     "data": {
      "application/vnd.jupyter.widget-view+json": {
       "model_id": "8fbe95d807014801ad6a5d11c17aa84b",
       "version_major": 2,
       "version_minor": 0
      },
      "text/plain": [
       "VBox(children=(HTML(value='<center> <img\\nsrc=https://huggingface.co/front/assets/huggingface_logo-noborder.sv…"
      ]
     },
     "metadata": {},
     "output_type": "display_data"
    }
   ],
   "source": [
    "# login with huggingface\n",
    "from huggingface_hub import notebook_login\n",
    "\n",
    "notebook_login()"
   ]
  },
  {
   "cell_type": "markdown",
   "id": "c2a02144-a6c9-4960-aee8-9edf43fca74a",
   "metadata": {},
   "source": [
    "#  Integrate the Tool with Alfred"
   ]
  },
  {
   "cell_type": "code",
   "execution_count": 11,
   "id": "7b7839f4-4f30-4339-88c0-fa30c3d6d711",
   "metadata": {},
   "outputs": [],
   "source": [
    "# Generate the chat interface, including the tools\n",
    "llm = HuggingFaceEndpoint(\n",
    "    repo_id=\"Qwen/Qwen2.5-Coder-32B-Instruct\"\n",
    ")"
   ]
  },
  {
   "cell_type": "code",
   "execution_count": 12,
   "id": "16221c73-6911-4f51-bc5c-fbbcfd44a91d",
   "metadata": {},
   "outputs": [
    {
     "data": {
      "application/vnd.jupyter.widget-view+json": {
       "model_id": "c5763abeb7274cee976d37d516be1721",
       "version_major": 2,
       "version_minor": 0
      },
      "text/plain": [
       "tokenizer_config.json:   0%|          | 0.00/7.30k [00:00<?, ?B/s]"
      ]
     },
     "metadata": {},
     "output_type": "display_data"
    },
    {
     "name": "stderr",
     "output_type": "stream",
     "text": [
      "C:\\dev\\AI-Agent\\.venv\\lib\\site-packages\\huggingface_hub\\file_download.py:142: UserWarning: `huggingface_hub` cache-system uses symlinks by default to efficiently store duplicated files but your machine does not support them in C:\\Users\\dante\\.cache\\huggingface\\hub\\models--Qwen--Qwen2.5-Coder-32B-Instruct. Caching files will still work but in a degraded version that might require more space on your disk. This warning can be disabled by setting the `HF_HUB_DISABLE_SYMLINKS_WARNING` environment variable. For more details, see https://huggingface.co/docs/huggingface_hub/how-to-cache#limitations.\n",
      "To support symlinks on Windows, you either need to activate Developer Mode or to run Python as an administrator. In order to activate developer mode, see this article: https://docs.microsoft.com/en-us/windows/apps/get-started/enable-your-device-for-development\n",
      "  warnings.warn(message)\n"
     ]
    },
    {
     "data": {
      "application/vnd.jupyter.widget-view+json": {
       "model_id": "cd0f8bfe31ba4bd0892f2a84235ca2ea",
       "version_major": 2,
       "version_minor": 0
      },
      "text/plain": [
       "vocab.json:   0%|          | 0.00/2.78M [00:00<?, ?B/s]"
      ]
     },
     "metadata": {},
     "output_type": "display_data"
    },
    {
     "data": {
      "application/vnd.jupyter.widget-view+json": {
       "model_id": "2af20b4be0054aee895aa8102b1dd138",
       "version_major": 2,
       "version_minor": 0
      },
      "text/plain": [
       "merges.txt:   0%|          | 0.00/1.67M [00:00<?, ?B/s]"
      ]
     },
     "metadata": {},
     "output_type": "display_data"
    },
    {
     "data": {
      "application/vnd.jupyter.widget-view+json": {
       "model_id": "574a2445313b4126ae6e65cb134c871d",
       "version_major": 2,
       "version_minor": 0
      },
      "text/plain": [
       "tokenizer.json:   0%|          | 0.00/7.03M [00:00<?, ?B/s]"
      ]
     },
     "metadata": {},
     "output_type": "display_data"
    }
   ],
   "source": [
    "chat = ChatHuggingFace(llm=llm, verbose=True)\n",
    "tools = [guest_info_tool]\n",
    "chat_with_tools = chat.bind_tools(tools)"
   ]
  },
  {
   "cell_type": "markdown",
   "id": "19eb0ac4-3b8f-414a-b04d-6a0a1a5d41f7",
   "metadata": {},
   "source": [
    "## Generate the AgentState and Agent graph"
   ]
  },
  {
   "cell_type": "code",
   "execution_count": 13,
   "id": "4f574141-908e-4116-920e-f35e8def99dc",
   "metadata": {},
   "outputs": [],
   "source": [
    "# Generate the AgentState and Agent graph\n",
    "class AgentState(TypedDict):\n",
    "    messages: Annotated[list[AnyMessage], add_messages]\n",
    "\n",
    "def assistant(state: AgentState):\n",
    "    return {\n",
    "        \"messages\": [chat_with_tools.invoke(state[\"messages\"])],\n",
    "    }"
   ]
  },
  {
   "cell_type": "code",
   "execution_count": 40,
   "id": "bd02d839-0e21-468a-8e9a-4769d59461bf",
   "metadata": {},
   "outputs": [],
   "source": [
    "## The graph\n",
    "builder = StateGraph(AgentState)"
   ]
  },
  {
   "cell_type": "code",
   "execution_count": 41,
   "id": "bb82c855-2ea5-4fb5-98ed-7de583f68792",
   "metadata": {},
   "outputs": [
    {
     "data": {
      "text/plain": [
       "<langgraph.graph.state.StateGraph at 0x2b160b05c30>"
      ]
     },
     "execution_count": 41,
     "metadata": {},
     "output_type": "execute_result"
    }
   ],
   "source": [
    "# Define nodes: these do the work\n",
    "builder.add_node(\"assistant\", assistant)\n",
    "builder.add_node(\"tools\", ToolNode(tools))"
   ]
  },
  {
   "cell_type": "code",
   "execution_count": 42,
   "id": "5a4ad8c2-f6f8-4ea7-9533-4b4c627a184a",
   "metadata": {},
   "outputs": [],
   "source": [
    "# Define edges: these determine how the control flow moves\n",
    "builder.add_edge(START, \"assistant\")\n",
    "builder.add_conditional_edges(\n",
    "    \"assistant\",\n",
    "    # If the latest message requires a tool, route to tools\n",
    "    # Otherwise, provide a direct response\n",
    "    tools_condition,\n",
    ")\n",
    "builder.add_edge(\"tools\", \"assistant\")\n",
    "alfred = builder.compile()"
   ]
  },
  {
   "cell_type": "code",
   "execution_count": 43,
   "id": "e17cad56-c250-47f8-8ac4-6f023388cf6f",
   "metadata": {},
   "outputs": [
    {
     "data": {
      "image/png": "[encoded data removed]",
      "text/plain": [
       "<IPython.core.display.Image object>"
      ]
     },
     "metadata": {},
     "output_type": "display_data"
    }
   ],
   "source": [
    "from IPython.display import Image, display\n",
    "# Show\n",
    "display(Image(alfred.get_graph(xray=True).draw_mermaid_png()))"
   ]
  },
  {
   "cell_type": "code",
   "execution_count": 44,
   "id": "88c205be-d7e4-4cd4-810e-ae09eb4c9ad2",
   "metadata": {},
   "outputs": [
    {
     "data": {
      "text/plain": [
       "[HumanMessage(content=\"Tell me about our guest named 'Lady Ada Lovelace'.\", additional_kwargs={}, response_metadata={})]"
      ]
     },
     "execution_count": 44,
     "metadata": {},
     "output_type": "execute_result"
    }
   ],
   "source": [
    "messages = [HumanMessage(content=\"Tell me about our guest named 'Lady Ada Lovelace'.\")]\n",
    "messages"
   ]
  },
  {
   "cell_type": "code",
   "execution_count": 45,
   "id": "cbe3dee5-3596-4659-87b2-b6357b549b10",
   "metadata": {},
   "outputs": [],
   "source": [
    "response = alfred.invoke({\"messages\": messages})"
   ]
  },
  {
   "cell_type": "code",
   "execution_count": 46,
   "id": "3c5a2c29-ec31-44ad-90a1-c4df6764e556",
   "metadata": {},
   "outputs": [
    {
     "name": "stdout",
     "output_type": "stream",
     "text": [
      "🎩 Alfred's Response:\n",
      "It seems like there might be some confusion. You've listed descriptions and details for several historical figures, including Lady Ada Lovelace, but it appears you are specifically interested in learning about Ada Lovelace.\n",
      "\n",
      "**Lady Ada Lovelace**:\n",
      "- **Full Name**: Ada King, Countess of Lovelace (née Byron)\n",
      "- **Birth**: December 10, 1815, London, England\n",
      "- **Death**: November 27, 1852, Marylebone, London, England\n",
      "- **Occupation**: Mathematician\n",
      "- **Notable for**: Her work on Charles Babbage's Analytical Engine, which is often regarded as the first mechanical general-purpose computer. Lovelace not only translated an article written by Italian engineer Luigi Menabrea but also added her own annotations, which were longer than the original paper. These annotations include what is recognized as the first algorithm intended to be processed on a machine, thus making her the first computer programmer.\n",
      "- **Family**: Daughter of the poet Lord Byron and Annabella Milbanke\n",
      "- **Legacy**: Lovelace's work laid the groundwork for future advancements in computer science. Ada Lovelace Day is celebrated internationally on the second Tuesday of October in recognition of women's contributions to science, technology, engineering, and mathematics (STEM).\n",
      "\n",
      "Let me know if you need more details or information!\n"
     ]
    }
   ],
   "source": [
    "print(\"🎩 Alfred's Response:\")\n",
    "print(response['messages'][-1].content)"
   ]
  },
  {
   "cell_type": "markdown",
   "id": "0191ef4e-c6af-4738-90d8-04db111704d4",
   "metadata": {},
   "source": [
    "# Search tool for Alfred"
   ]
  },
  {
   "cell_type": "code",
   "execution_count": 47,
   "id": "fe3dc651-7dde-4a8d-ad3a-67c89d80f3bc",
   "metadata": {},
   "outputs": [
    {
     "name": "stdout",
     "output_type": "stream",
     "text": [
      "Emmanuel Macron (born December 21, 1977, Amiens, France) is a French banker and politician who was elected president of France in 2017. Macron was the first person in the history of the Fifth Republic to win the presidency without the backing of either the Socialists or the Gaullists, and he was France's youngest head of state since Napoleon I.He was reelected in 2022, becoming the first ... Emmanuel Macron, born on December 21, 1977, is the current president of the French Republic.In office since May 14, 2017, he was re-elected on April 24, 2022 with 58.55% of the votes against his competitor Marine Le Pen. With a background in higher public service and investment banking, Macron approaches his mandate with a desire for change and innovation in various fields, including economics ... PARIS (AP) — French President Emmanuel Macron vowed Thursday to stay in office until the end of his term, due in 2027, and announced that he will name a new prime minister within days following ... The current President of France is Emmanuel Macron, who has held office since being elected in the 2017 French Presidential Election. The Prime Minister of France is the leader of government and holds the power to manage the numerous public agencies based around the nation. The French Executive Cabinet is formally comprised of members of ... Parliamentary elections in France are held every five years, or sooner if the president chooses to call one. Until 2002, this used to be every seven years and they are always held on a Sunday.\n"
     ]
    }
   ],
   "source": [
    "from langchain_community.tools import DuckDuckGoSearchRun\n",
    "\n",
    "search_tool = DuckDuckGoSearchRun()\n",
    "results = search_tool.invoke(\"Who's the current President of France?\")\n",
    "print(results)"
   ]
  },
  {
   "cell_type": "markdown",
   "id": "057379b6-96ba-4351-9110-8fc267956404",
   "metadata": {},
   "source": [
    "# Creating a Custom Tool for Weather Information to Schedule the Fireworks"
   ]
  },
  {
   "cell_type": "code",
   "execution_count": 48,
   "id": "ed4ca727-8806-4694-aa4d-cb645fc9f81d",
   "metadata": {},
   "outputs": [],
   "source": [
    "from langchain.tools import Tool\n",
    "import random"
   ]
  },
  {
   "cell_type": "code",
   "execution_count": 50,
   "id": "e111bd6b-bb49-4ded-b579-7d16b9b1f7c6",
   "metadata": {},
   "outputs": [],
   "source": [
    "import requests\n",
    "\n",
    "def get_weather_info(location: str) -> str:\n",
    "    \"\"\"\n",
    "    Fetches weather information for a given location.\n",
    "    \n",
    "    Args:\n",
    "        location (str): Location in 'Europe/Madrid' format. The function is designed \n",
    "                       to work specifically with locations following this format \n",
    "                       which represents the timezone identifier for central Spain.\n",
    "                       Example: 'Europe/Madrid'\n",
    "    \n",
    "    Returns:\n",
    "        str: Formatted weather information including condition and temperature.\n",
    "             Format: \"Weather in {location}: {condition}, {temperature}°C\"\n",
    "    \n",
    "    Raises:\n",
    "        ValueError: If the location doesn't follow the 'Europe/Madrid' format.\n",
    "        ConnectionError: If there's an issue connecting to the weather API.\n",
    "        Exception: For any other unexpected errors.\n",
    "    \n",
    "    Notes for AI Agent Consumer:\n",
    "        - This function expects locations in IANA timezone identifier format 'Europe/Madrid'\n",
    "        - The weather API used (wttr.in) is free and requires no registration\n",
    "        - For production use, consider implementing rate limiting to avoid API restrictions\n",
    "    \"\"\"\n",
    "    # Validate location format\n",
    "    if not location.startswith(\"Europe/\"):\n",
    "        raise ValueError(\"Location must be in 'Europe/Madrid' format, representing a timezone identifier\")\n",
    "    \n",
    "    # Extract the city name from the location string\n",
    "    city = location.split('/')[-1]\n",
    "    \n",
    "    # Using wttr.in - a free weather API that doesn't require registration\n",
    "    url = f\"https://wttr.in/{city}?format=j1\"\n",
    "    \n",
    "    try:\n",
    "        response = requests.get(url, timeout=10)\n",
    "        response.raise_for_status()  # Raise an exception for HTTP errors\n",
    "        \n",
    "        data = response.json()\n",
    "        \n",
    "        # Extract weather information\n",
    "        current_condition = data[\"current_condition\"][0]\n",
    "        condition = current_condition[\"weatherDesc\"][0][\"value\"]\n",
    "        temp_c = current_condition[\"temp_C\"]\n",
    "        \n",
    "        return f\"Weather in {location}: {condition}, {temp_c}°C\"\n",
    "    \n",
    "    except requests.exceptions.ConnectionError:\n",
    "        raise ConnectionError(\"Failed to connect to the weather API. Please check your internet connection.\")\n",
    "    except requests.exceptions.Timeout:\n",
    "        raise ConnectionError(\"Request to weather API timed out. Please try again later.\")\n",
    "    except requests.exceptions.HTTPError as e:\n",
    "        raise Exception(f\"HTTP error occurred: {e}\")\n",
    "    except ValueError as e:\n",
    "        raise Exception(f\"JSON parsing error: {e}\")\n",
    "    except Exception as e:\n",
    "        raise Exception(f\"An unexpected error occurred: {e}\")\n"
   ]
  },
  {
   "cell_type": "markdown",
   "id": "3179d6f0-5953-4e5c-be00-69508b81c2e9",
   "metadata": {},
   "source": [
    "## Test weather tool"
   ]
  },
  {
   "cell_type": "code",
   "execution_count": 51,
   "id": "6980cf76-0974-43ac-9537-d65f88714243",
   "metadata": {},
   "outputs": [
    {
     "name": "stdout",
     "output_type": "stream",
     "text": [
      "Weather in Europe/Madrid: Partly cloudy, 18°C\n"
     ]
    }
   ],
   "source": [
    "# Example usage\n",
    "try:\n",
    "    weather_info = get_weather_info(\"Europe/Madrid\")\n",
    "    print(weather_info)\n",
    "except Exception as e:\n",
    "    print(f\"Error: {e}\")"
   ]
  },
  {
   "cell_type": "code",
   "execution_count": 53,
   "id": "e416cd3e-208a-4ee1-bf97-60ed4495051f",
   "metadata": {},
   "outputs": [],
   "source": [
    "# Initialize the tool\n",
    "weather_info_tool = Tool(\n",
    "    name=\"get_weather_info\",\n",
    "    func=get_weather_info,\n",
    "    description=\"\"\"Fetches weather information for a given location.\n",
    "    \n",
    "        Args:\n",
    "            location (str): Location in 'Europe/Madrid' format. The function is designed \n",
    "                           to work specifically with locations following this format \n",
    "                           which represents the timezone identifier for central Spain.\n",
    "                           Example: 'Europe/Madrid'\n",
    "        \n",
    "        Returns:\n",
    "            str: Formatted weather information including condition and temperature.\n",
    "                 Format: \"Weather in {location}: {condition}, {temperature}°C\"\n",
    "        \n",
    "        Raises:\n",
    "            ValueError: If the location doesn't follow the 'Europe/Madrid' format.\n",
    "            ConnectionError: If there's an issue connecting to the weather API.\n",
    "            Exception: For any other unexpected errors.\n",
    "        \n",
    "        Notes for AI Agent Consumer:\n",
    "            - This function expects locations in IANA timezone identifier format 'Europe/Madrid'\n",
    "            - The weather API used (wttr.in) is free and requires no registration\n",
    "            - For production use, consider implementing rate limiting to avoid API restrictions\"\"\"\n",
    ")"
   ]
  },
  {
   "cell_type": "markdown",
   "id": "30d4dfd5-478b-4b5b-bc62-40f379904481",
   "metadata": {},
   "source": [
    "# Creating a Hub Stats Tool for Influential AI Builders"
   ]
  },
  {
   "cell_type": "code",
   "execution_count": 54,
   "id": "7df443ac-c764-4a07-8f3e-081925c6da6a",
   "metadata": {},
   "outputs": [],
   "source": [
    "from langchain.tools import Tool\n",
    "from huggingface_hub import list_models"
   ]
  },
  {
   "cell_type": "code",
   "execution_count": 55,
   "id": "3ec6e1d3-0f5e-42a1-9a00-39d714e91eee",
   "metadata": {},
   "outputs": [],
   "source": [
    "def get_hub_stats(author: str) -> str:\n",
    "    \"\"\"Fetches the most downloaded model from a specific author on the Hugging Face Hub.\"\"\"\n",
    "    try:\n",
    "        # List models from the specified author, sorted by downloads\n",
    "        models = list(list_models(author=author, sort=\"downloads\", direction=-1, limit=1))\n",
    "\n",
    "        if models:\n",
    "            model = models[0]\n",
    "            return f\"The most downloaded model by {author} is {model.id} with {model.downloads:,} downloads.\"\n",
    "        else:\n",
    "            return f\"No models found for author {author}.\"\n",
    "    except Exception as e:\n",
    "        return f\"Error fetching models for {author}: {str(e)}\""
   ]
  },
  {
   "cell_type": "markdown",
   "id": "373a0fa7-0a3a-4697-a589-aae44e6df522",
   "metadata": {},
   "source": [
    "## Test the hub stats"
   ]
  },
  {
   "cell_type": "code",
   "execution_count": 57,
   "id": "4ee541fb-0dd8-401c-a7fb-ba454b93ed78",
   "metadata": {},
   "outputs": [
    {
     "data": {
      "text/plain": [
       "'The most downloaded model by facebook is facebook/esmfold_v1 with 19,321,664 downloads.'"
      ]
     },
     "execution_count": 57,
     "metadata": {},
     "output_type": "execute_result"
    }
   ],
   "source": [
    "get_hub_stats(\"facebook\")"
   ]
  },
  {
   "cell_type": "code",
   "execution_count": 58,
   "id": "b0c869f8-98ef-4e06-ae88-2120b60cc8b9",
   "metadata": {},
   "outputs": [
    {
     "name": "stderr",
     "output_type": "stream",
     "text": [
      "C:\\Users\\dante\\AppData\\Local\\Temp\\ipykernel_328\\1429007806.py:9: LangChainDeprecationWarning: The method `BaseTool.__call__` was deprecated in langchain-core 0.1.47 and will be removed in 1.0. Use :meth:`~invoke` instead.\n",
      "  print(hub_stats_tool(\"facebook\")) # Example: Get the most downloaded model by Facebook\n"
     ]
    },
    {
     "name": "stdout",
     "output_type": "stream",
     "text": [
      "The most downloaded model by facebook is facebook/esmfold_v1 with 19,321,664 downloads.\n"
     ]
    }
   ],
   "source": [
    "# Initialize the tool\n",
    "hub_stats_tool = Tool(\n",
    "    name=\"get_hub_stats\",\n",
    "    func=get_hub_stats,\n",
    "    description=\"Fetches the most downloaded model from a specific author on the Hugging Face Hub.\"\n",
    ")\n",
    "\n",
    "# Example usage\n",
    "print(hub_stats_tool(\"facebook\")) # Example: Get the most downloaded model by Facebook"
   ]
  },
  {
   "cell_type": "markdown",
   "id": "87cff953-f831-498c-bf2f-ed3880bca75f",
   "metadata": {},
   "source": [
    "# 2nd Integrating Tools with Alfred"
   ]
  },
  {
   "cell_type": "code",
   "execution_count": 59,
   "id": "24a0e06a-c12f-4e87-8eef-8a05822bef81",
   "metadata": {},
   "outputs": [],
   "source": [
    "from typing import TypedDict, Annotated\n",
    "from langgraph.graph.message import add_messages\n",
    "from langchain_core.messages import AnyMessage, HumanMessage, AIMessage\n",
    "from langgraph.prebuilt import ToolNode\n",
    "from langgraph.graph import START, StateGraph\n",
    "from langgraph.prebuilt import tools_condition\n",
    "from langchain_huggingface import HuggingFaceEndpoint, ChatHuggingFace"
   ]
  },
  {
   "cell_type": "markdown",
   "id": "0d1897a6-0798-46ae-a741-89d25746ecac",
   "metadata": {},
   "source": [
    "## Generate the chat interface, including the tools"
   ]
  },
  {
   "cell_type": "code",
   "execution_count": 60,
   "id": "ab270e1c-8c35-4a83-b288-e6a16c87b695",
   "metadata": {},
   "outputs": [],
   "source": [
    "llm = HuggingFaceEndpoint(\n",
    "    repo_id=\"Qwen/Qwen2.5-Coder-32B-Instruct\"\n",
    ")\n",
    "\n",
    "chat = ChatHuggingFace(llm=llm, verbose=True)\n",
    "tools = [search_tool, weather_info_tool, hub_stats_tool]\n",
    "chat_with_tools = chat.bind_tools(tools)"
   ]
  },
  {
   "cell_type": "markdown",
   "id": "8dd4ed38-fbb4-4304-a6c1-4c2a03bab1a7",
   "metadata": {},
   "source": [
    "## Generate the AgentState and Agent graph"
   ]
  },
  {
   "cell_type": "code",
   "execution_count": 61,
   "id": "08ca8e99-2755-439c-a2ed-e82cc02c3ff3",
   "metadata": {},
   "outputs": [],
   "source": [
    "class AgentState(TypedDict):\n",
    "    messages: Annotated[list[AnyMessage], add_messages]\n",
    "\n",
    "def assistant(state: AgentState):\n",
    "    return {\n",
    "        \"messages\": [chat_with_tools.invoke(state[\"messages\"])],\n",
    "    }"
   ]
  },
  {
   "cell_type": "markdown",
   "id": "49041a7b-1f49-4b13-a950-c05ef8fe99cc",
   "metadata": {},
   "source": [
    "## The graph"
   ]
  },
  {
   "cell_type": "code",
   "execution_count": 63,
   "id": "6263abc7-a0f6-49b3-9dfc-24d02bea0410",
   "metadata": {},
   "outputs": [],
   "source": [
    "builder = StateGraph(AgentState)\n",
    "\n",
    "# Define nodes: these do the work\n",
    "builder.add_node(\"assistant\", assistant)\n",
    "builder.add_node(\"tools\", ToolNode(tools))\n",
    "\n",
    "# Define edges: these determine how the control flow moves\n",
    "builder.add_edge(START, \"assistant\")\n",
    "builder.add_conditional_edges(\n",
    "    \"assistant\",\n",
    "    # If the latest message requires a tool, route to tools\n",
    "    # Otherwise, provide a direct response\n",
    "    tools_condition,\n",
    ")\n",
    "builder.add_edge(\"tools\", \"assistant\")\n",
    "alfred = builder.compile()"
   ]
  },
  {
   "cell_type": "code",
   "execution_count": 64,
   "id": "028a8800-db59-4982-b43c-07be7624d7bf",
   "metadata": {},
   "outputs": [
    {
     "data": {
      "image/png": "[encoded data removed]",
      "text/plain": [
       "<IPython.core.display.Image object>"
      ]
     },
     "metadata": {},
     "output_type": "display_data"
    }
   ],
   "source": [
    "from IPython.display import Image, display\n",
    "# Show\n",
    "display(Image(alfred.get_graph(xray=True).draw_mermaid_png()))"
   ]
  },
  {
   "cell_type": "code",
   "execution_count": 69,
   "id": "aa181aae-5066-4c58-898b-bb1b4333f8ad",
   "metadata": {},
   "outputs": [],
   "source": [
    "messages = [HumanMessage(content=\"Who is Facebook and what's their most popular model?, always try get the info from tools.\")]"
   ]
  },
  {
   "cell_type": "code",
   "execution_count": 70,
   "id": "b23bffd4-0ce0-4cbd-921d-53ea453eee0c",
   "metadata": {},
   "outputs": [],
   "source": [
    "response = alfred.invoke({\"messages\": messages})"
   ]
  },
  {
   "cell_type": "code",
   "execution_count": 71,
   "id": "5461b8fd-173c-4bb8-8933-f175a3a96485",
   "metadata": {},
   "outputs": [
    {
     "name": "stdout",
     "output_type": "stream",
     "text": [
      "🎩 Alfred's Response:\n",
      "From the provided information, it appears that the most advanced AI models released by Meta are part of the Llama 4 series. Specifically, two models are highlighted:\n",
      "\n",
      "1. **Llama 4 Scout**: Known for its high efficiency, it has a expansive context window of 10 million tokens, making it highly capable of handling large amounts of information. Meta has rolled out Llama 4 Scout in 40 countries across various applications such as WhatsApp, Messenger, and Instagram, powering Meta AI.\n",
      "\n",
      "2. **Llama 4 Maverick**: A powerful model that was codistilled from Llama 4 Behemoth, it includes over 2 trillion parameters, making it one of the largest models currently available and very capable of advanced learning and inference.\n",
      "\n",
      "However, it's important to note that these models are not individual \"people\" but rather advanced AI systems designed to assist with various tasks across Meta's platforms. \n",
      "\n",
      "If you are asking about Facebook's most popular AI application or model used for content generation, education, or other purposes, the **Llama 4 Scout** and **Llama 4 Maverick** models are likely at the forefront, given their extensive capabilities and deployment across multiple Meta products and services.\n"
     ]
    }
   ],
   "source": [
    "print(\"🎩 Alfred's Response:\")\n",
    "print(response['messages'][-1].content)"
   ]
  },
  {
   "cell_type": "code",
   "execution_count": null,
   "id": "ccf953e9-4b48-4192-bf88-140afa3f9d2e",
   "metadata": {},
   "outputs": [],
   "source": []
  }
 ],
 "metadata": {
  "kernelspec": {
   "display_name": "Python 3 (ipykernel)",
   "language": "python",
   "name": "python3"
  },
  "language_info": {
   "codemirror_mode": {
    "name": "ipython",
    "version": 3
   },
   "file_extension": ".py",
   "mimetype": "text/x-python",
   "name": "python",
   "nbconvert_exporter": "python",
   "pygments_lexer": "ipython3",
   "version": "3.10.0"
  }
 },
 "nbformat": 4,
 "nbformat_minor": 5
}
