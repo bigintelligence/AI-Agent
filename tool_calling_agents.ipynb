{
 "cells": [
  {
   "cell_type": "markdown",
   "metadata": {
    "id": "Pi9CF0391ARI"
   },
   "source": [
    "# Integrating Agents With Tools\n",
    "\n",
    "This notebook is part of the [Hugging Face Agents Course](https://www.hf.co/learn/agents-course), a free Course from beginner to expert, where you learn to build Agents.\n",
    "\n",
    "![Agents course share](https://huggingface.co/datasets/agents-course/course-images/resolve/main/en/communication/share.png)"
   ]
  },
  {
   "cell_type": "markdown",
   "metadata": {
    "id": "9gsYky7F1GzT"
   },
   "source": [
    "## Let's install the dependencies and login to our HF account to access the Inference API\n",
    "\n",
    "If you haven't installed `smolagents` yet, you can do so by running the following command:"
   ]
  },
  {
   "cell_type": "code",
   "execution_count": null,
   "metadata": {
    "id": "MoFopncp0pnJ"
   },
   "outputs": [],
   "source": [
    "!pip install smolagents -U"
   ]
  },
  {
   "cell_type": "markdown",
   "metadata": {
    "id": "cH-4W1GhYL4T"
   },
   "source": [
    "Let's also login to the Hugging Face Hub to have access to the Inference API."
   ]
  },
  {
   "cell_type": "code",
   "execution_count": 1,
   "metadata": {
    "id": "TFTc-ry70y1f"
   },
   "outputs": [
    {
     "data": {
      "application/vnd.jupyter.widget-view+json": {
       "model_id": "de322863dcd642b5891e56402e55ac43",
       "version_major": 2,
       "version_minor": 0
      },
      "text/plain": [
       "VBox(children=(HTML(value='<center> <img\\nsrc=https://huggingface.co/front/assets/huggingface_logo-noborder.sv…"
      ]
     },
     "metadata": {},
     "output_type": "display_data"
    }
   ],
   "source": [
    "from huggingface_hub import notebook_login\n",
    "\n",
    "notebook_login()"
   ]
  },
  {
   "cell_type": "markdown",
   "metadata": {
    "id": "ekKxaZrd1HlB"
   },
   "source": [
    "## Selecting a Playlist for the Party Using `smolagents` and a `ToolCallingAgent`\n",
    "\n",
    "Let's revisit the previous example where Alfred started party preparations, but this time we'll use a `ToolCallingAgent` to highlight the difference. We'll build an agent that can search the web using DuckDuckGo, just like in our Code Agent example. The only difference is the agent type - the framework handles everything else:"
   ]
  },
  {
   "cell_type": "code",
   "execution_count": 2,
   "metadata": {
    "colab": {
     "base_uri": "https://localhost:8080/",
     "height": 1000
    },
    "id": "6IInDOUN01sP",
    "outputId": "e49f2360-d377-4ed8-b7ae-8da4a3e3757b"
   },
   "outputs": [
    {
     "data": {
      "text/html": [
       "<pre style=\"white-space:pre;overflow-x:auto;line-height:normal;font-family:Menlo,'DejaVu Sans Mono',consolas,'Courier New',monospace\"><span style=\"color: #d4b702; text-decoration-color: #d4b702\">╭──────────────────────────────────────────────────── </span><span style=\"color: #d4b702; text-decoration-color: #d4b702; font-weight: bold\">New run</span><span style=\"color: #d4b702; text-decoration-color: #d4b702\"> ────────────────────────────────────────────────────╮</span>\n",
       "<span style=\"color: #d4b702; text-decoration-color: #d4b702\">│</span>                                                                                                                 <span style=\"color: #d4b702; text-decoration-color: #d4b702\">│</span>\n",
       "<span style=\"color: #d4b702; text-decoration-color: #d4b702\">│</span> <span style=\"font-weight: bold\">Search for the best music recommendations for a party at the Wayne's mansion.</span>                                   <span style=\"color: #d4b702; text-decoration-color: #d4b702\">│</span>\n",
       "<span style=\"color: #d4b702; text-decoration-color: #d4b702\">│</span>                                                                                                                 <span style=\"color: #d4b702; text-decoration-color: #d4b702\">│</span>\n",
       "<span style=\"color: #d4b702; text-decoration-color: #d4b702\">╰─ HfApiModel - https://pflgm2locj2t89co.us-east-1.aws.endpoints.huggingface.cloud/ ──────────────────────────────╯</span>\n",
       "</pre>\n"
      ],
      "text/plain": [
       "\u001b[38;2;212;183;2m╭─\u001b[0m\u001b[38;2;212;183;2m───────────────────────────────────────────────────\u001b[0m\u001b[38;2;212;183;2m \u001b[0m\u001b[1;38;2;212;183;2mNew run\u001b[0m\u001b[38;2;212;183;2m \u001b[0m\u001b[38;2;212;183;2m───────────────────────────────────────────────────\u001b[0m\u001b[38;2;212;183;2m─╮\u001b[0m\n",
       "\u001b[38;2;212;183;2m│\u001b[0m                                                                                                                 \u001b[38;2;212;183;2m│\u001b[0m\n",
       "\u001b[38;2;212;183;2m│\u001b[0m \u001b[1mSearch for the best music recommendations for a party at the Wayne's mansion.\u001b[0m                                   \u001b[38;2;212;183;2m│\u001b[0m\n",
       "\u001b[38;2;212;183;2m│\u001b[0m                                                                                                                 \u001b[38;2;212;183;2m│\u001b[0m\n",
       "\u001b[38;2;212;183;2m╰─\u001b[0m\u001b[38;2;212;183;2m HfApiModel - https://pflgm2locj2t89co.us-east-1.aws.endpoints.huggingface.cloud/ \u001b[0m\u001b[38;2;212;183;2m─────────────────────────────\u001b[0m\u001b[38;2;212;183;2m─╯\u001b[0m\n"
      ]
     },
     "metadata": {},
     "output_type": "display_data"
    },
    {
     "data": {
      "text/html": [
       "<pre style=\"white-space:pre;overflow-x:auto;line-height:normal;font-family:Menlo,'DejaVu Sans Mono',consolas,'Courier New',monospace\"><span style=\"color: #d4b702; text-decoration-color: #d4b702\">━━━━━━━━━━━━━━━━━━━━━━━━━━━━━━━━━━━━━━━━━━━━━━━━━━━━━ </span><span style=\"font-weight: bold\">Step </span><span style=\"color: #008080; text-decoration-color: #008080; font-weight: bold\">1</span><span style=\"color: #d4b702; text-decoration-color: #d4b702\"> ━━━━━━━━━━━━━━━━━━━━━━━━━━━━━━━━━━━━━━━━━━━━━━━━━━━━━━</span>\n",
       "</pre>\n"
      ],
      "text/plain": [
       "\u001b[38;2;212;183;2m━━━━━━━━━━━━━━━━━━━━━━━━━━━━━━━━━━━━━━━━━━━━━━━━━━━━━ \u001b[0m\u001b[1mStep \u001b[0m\u001b[1;36m1\u001b[0m\u001b[38;2;212;183;2m ━━━━━━━━━━━━━━━━━━━━━━━━━━━━━━━━━━━━━━━━━━━━━━━━━━━━━━\u001b[0m\n"
      ]
     },
     "metadata": {},
     "output_type": "display_data"
    },
    {
     "data": {
      "text/html": [
       "<pre style=\"white-space:pre;overflow-x:auto;line-height:normal;font-family:Menlo,'DejaVu Sans Mono',consolas,'Courier New',monospace\">╭─────────────────────────────────────────────────────────────────────────────────────────────────────────────────╮\n",
       "│ Calling tool: 'web_search' with arguments: {'query': \"best music recommendations for a party at Wayne's         │\n",
       "│ mansion\"}                                                                                                       │\n",
       "╰─────────────────────────────────────────────────────────────────────────────────────────────────────────────────╯\n",
       "</pre>\n"
      ],
      "text/plain": [
       "╭─────────────────────────────────────────────────────────────────────────────────────────────────────────────────╮\n",
       "│ Calling tool: 'web_search' with arguments: {'query': \"best music recommendations for a party at Wayne's         │\n",
       "│ mansion\"}                                                                                                       │\n",
       "╰─────────────────────────────────────────────────────────────────────────────────────────────────────────────────╯\n"
      ]
     },
     "metadata": {},
     "output_type": "display_data"
    },
    {
     "data": {
      "text/html": [
       "<pre style=\"white-space:pre;overflow-x:auto;line-height:normal;font-family:Menlo,'DejaVu Sans Mono',consolas,'Courier New',monospace\">Observations: ## Search Results\n",
       "\n",
       "|The <span style=\"color: #008080; text-decoration-color: #008080; font-weight: bold\">75</span> Best Party Songs That Will Get Everyone Dancing - \n",
       "Gear4music<span style=\"font-weight: bold\">](</span><span style=\"color: #0000ff; text-decoration-color: #0000ff; text-decoration: underline\">https://www.gear4music.com/blog/best-party-songs/)</span>\n",
       "The best party songs <span style=\"color: #008080; text-decoration-color: #008080; font-weight: bold\">1</span>. <span style=\"color: #008000; text-decoration-color: #008000\">\"September\"</span> - Earth, Wind &amp; Fire <span style=\"font-weight: bold\">(</span><span style=\"color: #008080; text-decoration-color: #008080; font-weight: bold\">1978</span><span style=\"font-weight: bold\">)</span> Quite possibly the best party song. An infectious \n",
       "mix of funk and soul, <span style=\"color: #008000; text-decoration-color: #008000\">\"September\"</span> is celebrated for its upbeat melody and <span style=\"color: #008000; text-decoration-color: #008000\">\"ba-dee-ya\"</span> chorus, making it a timeless \n",
       "dance favorite.\n",
       "\n",
       "|<span style=\"color: #008080; text-decoration-color: #008080; font-weight: bold\">50</span> Songs on Every Event Planner's Playlist - \n",
       "Eventbrite<span style=\"font-weight: bold\">](</span><span style=\"color: #0000ff; text-decoration-color: #0000ff; text-decoration: underline\">https://www.eventbrite.com/blog/event-planning-playlist-ds00/)</span>\n",
       "Music sets the mood and provides the soundtrack <span style=\"font-weight: bold\">(</span>literally<span style=\"font-weight: bold\">)</span> for a memorable and exciting time. While the right \n",
       "songs can enhance the experience, the wrong event music can throw off the vibe. For example, fast-paced songs \n",
       "probably aren't the best fit for a formal gala. And smooth jazz is likely to lull your guests at a motivational \n",
       "conference.\n",
       "\n",
       "|Similar Songs Finder | Spotify Playlist Generator - Chosic<span style=\"font-weight: bold\">](</span><span style=\"color: #0000ff; text-decoration-color: #0000ff; text-decoration: underline\">https://www.chosic.com/playlist-generator/)</span>\n",
       "Need to find similar songs to a song you like? To music you love? A playlist created for you in seconds! With \n",
       "Spotify Playlist Generator online tool, create awesome playlists in seconds, featuring similar songs to those you \n",
       "love. Whether by songs, artists, genres, moods, or based on a playlist, just start with what you have in mind, and \n",
       "it will provide you with plenty of song recommendations <span style=\"color: #808000; text-decoration-color: #808000\">...</span>\n",
       "\n",
       "|<span style=\"color: #008080; text-decoration-color: #008080; font-weight: bold\">200</span> Classic House Party Songs Everyone Knows | The Best Popular Party \n",
       "Songs<span style=\"font-weight: bold\">](</span><span style=\"color: #0000ff; text-decoration-color: #0000ff; text-decoration: underline\">https://www.ispytunes.com/post/house-party-songs)</span>\n",
       "\" Branded merchandise adds flair to any occasion, just like the perfect playlist. <span style=\"color: #008080; text-decoration-color: #008080; font-weight: bold\">200</span> classic house party songs \n",
       "everyone knows set the mood, bringing energy to every celebration. The best popular party hits keep guests dancing,\n",
       "creating unforgettable moments. From throwback anthems to modern beats, a great selection ensures nonstop fun.\n",
       "\n",
       "|Passaic County Parks &amp; Recreation: Music at the \n",
       "Mansion<span style=\"font-weight: bold\">](</span><span style=\"color: #0000ff; text-decoration-color: #0000ff; text-decoration: underline\">https://passaiccountynj.myrec.com/info/activities/program_details.aspx?ProgramID=29909)</span>\n",
       "Thursdays from <span style=\"color: #008080; text-decoration-color: #008080; font-weight: bold\">7</span> to <span style=\"color: #008080; text-decoration-color: #008080; font-weight: bold\">9</span> PM the finest local bands will be playing music while In the Drink restaurant sells food and \n",
       "drinks on site. September 3rd: Norton Smull Band; Parking is limited at the Dey Mansion <span style=\"color: #008080; text-decoration-color: #008080; font-weight: bold\">209</span> Totowa Rd. Wayne, NJ. \n",
       "Overflow parking will be at the Preakness Valley Golf Course. You may drop off your guests at the Mansion first.\n",
       "\n",
       "|Creating a playlist for cocktail hour and dinner service for <span style=\"color: #808000; text-decoration-color: #808000\">...</span> - \n",
       "Reddit<span style=\"font-weight: bold\">](</span><span style=\"color: #0000ff; text-decoration-color: #0000ff; text-decoration: underline\">https://www.reddit.com/r/wilco/comments/12kxks1/creating_a_playlist_for_cocktail_hour_and_dinner/)</span>\n",
       "Shakey Graves - Mansion Door <span style=\"color: #808000; text-decoration-color: #808000\">...</span> Feel-good and Upbeat songs for a Kids' Campout Party <span style=\"color: #808000; text-decoration-color: #808000\">...</span> A subreddit to ask for \n",
       "our provide recommendations of any relevant media based on other media people like - whether it be music, \n",
       "television, video games, movies, or anything else. This is a RECOMMENDATION ONLY sub!\n",
       "\n",
       "|Party Music Guide: Ultimate Tips for the Perfect \n",
       "Playlist<span style=\"font-weight: bold\">](</span><span style=\"color: #0000ff; text-decoration-color: #0000ff; text-decoration: underline\">https://thebackstage-deezer.com/music/perfect-party-music-playlist/)</span>\n",
       "Check out the best party playlists and top party songs to ensure your next party is packed! The most popular party \n",
       "songs are here, just hit play. <span style=\"color: #808000; text-decoration-color: #808000\">...</span> to decor. But, most of all, you need to have fantastic music. We recommend you \n",
       "get at least three hours' worth of party music queued and ready — that's about <span style=\"color: #008080; text-decoration-color: #008080; font-weight: bold\">75</span> songs. Lucky for you, we've <span style=\"color: #808000; text-decoration-color: #808000\">...</span>\n",
       "\n",
       "|‎Party Starters - Playlist - Apple \n",
       "Music<span style=\"font-weight: bold\">](</span><span style=\"color: #0000ff; text-decoration-color: #0000ff; text-decoration: underline\">https://music.apple.com/us/playlist/party-starters/pl.b477839538364c8db8f3950e13731ecc)</span>\n",
       "You know the songs we're talking about: Absolute classics that even your least music-savvy friends and family \n",
       "members could crush on a karaoke stage. Drawing from decades of rock, pop, funk, dance, hip-hop, and more, this \n",
       "playlist is your key to getting the night started—and keeping it going.\n",
       "\n",
       "|Best <span style=\"color: #008080; text-decoration-color: #008080; font-weight: bold\">18</span> Songs for a Cozy and Sophisticated Dinner \n",
       "Party<span style=\"font-weight: bold\">](</span><span style=\"color: #0000ff; text-decoration-color: #0000ff; text-decoration: underline\">https://www.wokewaves.com/posts/perfect-songs-for-intimate-dinner-party)</span>\n",
       "From smooth jazz to soulful ballads, these <span style=\"color: #008080; text-decoration-color: #008080; font-weight: bold\">18</span> songs are the perfect backdrop for meaningful conversations, \n",
       "delicious food, and lasting memories. Set the mood with this sophisticated selection of tracks that will make your \n",
       "dinner party truly special. <span style=\"color: #008080; text-decoration-color: #008080; font-weight: bold\">1</span>. <span style=\"color: #008000; text-decoration-color: #008000\">\"La Vie en Rose\"</span> - Louis Armstrong\n",
       "\n",
       "|Top <span style=\"color: #008080; text-decoration-color: #008080; font-weight: bold\">10</span> Best Music Albums For Your Dinner Party - domino<span style=\"font-weight: bold\">](</span><span style=\"color: #0000ff; text-decoration-color: #0000ff; text-decoration: underline\">https://www.domino.com/content/best-dinner-party-music/)</span>\n",
       "But only the most skilled of hosts know that the secret to mastering mood is music. Read on for the best dinner \n",
       "party albums you could <span style=\"font-weight: bold\">(</span>should<span style=\"font-weight: bold\">)</span> play at your next gathering. Green Onions, Booker T. &amp; the MG's. This classic Stax \n",
       "record features only instruments, no vocals, leaving plenty of room for chatter. Don't be surprised, though, if you\n",
       "<span style=\"color: #808000; text-decoration-color: #808000\">...</span>\n",
       "</pre>\n"
      ],
      "text/plain": [
       "Observations: ## Search Results\n",
       "\n",
       "|The \u001b[1;36m75\u001b[0m Best Party Songs That Will Get Everyone Dancing - \n",
       "Gear4music\u001b[1m]\u001b[0m\u001b[1m(\u001b[0m\u001b[4;94mhttps://www.gear4music.com/blog/best-party-songs/\u001b[0m\u001b[4;94m)\u001b[0m\n",
       "The best party songs \u001b[1;36m1\u001b[0m. \u001b[32m\"September\"\u001b[0m - Earth, Wind & Fire \u001b[1m(\u001b[0m\u001b[1;36m1978\u001b[0m\u001b[1m)\u001b[0m Quite possibly the best party song. An infectious \n",
       "mix of funk and soul, \u001b[32m\"September\"\u001b[0m is celebrated for its upbeat melody and \u001b[32m\"ba-dee-ya\"\u001b[0m chorus, making it a timeless \n",
       "dance favorite.\n",
       "\n",
       "|\u001b[1;36m50\u001b[0m Songs on Every Event Planner's Playlist - \n",
       "Eventbrite\u001b[1m]\u001b[0m\u001b[1m(\u001b[0m\u001b[4;94mhttps://www.eventbrite.com/blog/event-planning-playlist-ds00/\u001b[0m\u001b[4;94m)\u001b[0m\n",
       "Music sets the mood and provides the soundtrack \u001b[1m(\u001b[0mliterally\u001b[1m)\u001b[0m for a memorable and exciting time. While the right \n",
       "songs can enhance the experience, the wrong event music can throw off the vibe. For example, fast-paced songs \n",
       "probably aren't the best fit for a formal gala. And smooth jazz is likely to lull your guests at a motivational \n",
       "conference.\n",
       "\n",
       "|Similar Songs Finder | Spotify Playlist Generator - Chosic\u001b[1m]\u001b[0m\u001b[1m(\u001b[0m\u001b[4;94mhttps://www.chosic.com/playlist-generator/\u001b[0m\u001b[4;94m)\u001b[0m\n",
       "Need to find similar songs to a song you like? To music you love? A playlist created for you in seconds! With \n",
       "Spotify Playlist Generator online tool, create awesome playlists in seconds, featuring similar songs to those you \n",
       "love. Whether by songs, artists, genres, moods, or based on a playlist, just start with what you have in mind, and \n",
       "it will provide you with plenty of song recommendations \u001b[33m...\u001b[0m\n",
       "\n",
       "|\u001b[1;36m200\u001b[0m Classic House Party Songs Everyone Knows | The Best Popular Party \n",
       "Songs\u001b[1m]\u001b[0m\u001b[1m(\u001b[0m\u001b[4;94mhttps://www.ispytunes.com/post/house-party-songs\u001b[0m\u001b[4;94m)\u001b[0m\n",
       "\" Branded merchandise adds flair to any occasion, just like the perfect playlist. \u001b[1;36m200\u001b[0m classic house party songs \n",
       "everyone knows set the mood, bringing energy to every celebration. The best popular party hits keep guests dancing,\n",
       "creating unforgettable moments. From throwback anthems to modern beats, a great selection ensures nonstop fun.\n",
       "\n",
       "|Passaic County Parks & Recreation: Music at the \n",
       "Mansion\u001b[1m]\u001b[0m\u001b[1m(\u001b[0m\u001b[4;94mhttps://passaiccountynj.myrec.com/info/activities/program_details.aspx?\u001b[0m\u001b[4;94mProgramID\u001b[0m\u001b[4;94m=\u001b[0m\u001b[4;94m29909\u001b[0m\u001b[4;94m)\u001b[0m\n",
       "Thursdays from \u001b[1;36m7\u001b[0m to \u001b[1;36m9\u001b[0m PM the finest local bands will be playing music while In the Drink restaurant sells food and \n",
       "drinks on site. September 3rd: Norton Smull Band; Parking is limited at the Dey Mansion \u001b[1;36m209\u001b[0m Totowa Rd. Wayne, NJ. \n",
       "Overflow parking will be at the Preakness Valley Golf Course. You may drop off your guests at the Mansion first.\n",
       "\n",
       "|Creating a playlist for cocktail hour and dinner service for \u001b[33m...\u001b[0m - \n",
       "Reddit\u001b[1m]\u001b[0m\u001b[1m(\u001b[0m\u001b[4;94mhttps://www.reddit.com/r/wilco/comments/12kxks1/creating_a_playlist_for_cocktail_hour_and_dinner/\u001b[0m\u001b[4;94m)\u001b[0m\n",
       "Shakey Graves - Mansion Door \u001b[33m...\u001b[0m Feel-good and Upbeat songs for a Kids' Campout Party \u001b[33m...\u001b[0m A subreddit to ask for \n",
       "our provide recommendations of any relevant media based on other media people like - whether it be music, \n",
       "television, video games, movies, or anything else. This is a RECOMMENDATION ONLY sub!\n",
       "\n",
       "|Party Music Guide: Ultimate Tips for the Perfect \n",
       "Playlist\u001b[1m]\u001b[0m\u001b[1m(\u001b[0m\u001b[4;94mhttps://thebackstage-deezer.com/music/perfect-party-music-playlist/\u001b[0m\u001b[4;94m)\u001b[0m\n",
       "Check out the best party playlists and top party songs to ensure your next party is packed! The most popular party \n",
       "songs are here, just hit play. \u001b[33m...\u001b[0m to decor. But, most of all, you need to have fantastic music. We recommend you \n",
       "get at least three hours' worth of party music queued and ready — that's about \u001b[1;36m75\u001b[0m songs. Lucky for you, we've \u001b[33m...\u001b[0m\n",
       "\n",
       "|‎Party Starters - Playlist - Apple \n",
       "Music\u001b[1m]\u001b[0m\u001b[1m(\u001b[0m\u001b[4;94mhttps://music.apple.com/us/playlist/party-starters/pl.b477839538364c8db8f3950e13731ecc\u001b[0m\u001b[4;94m)\u001b[0m\n",
       "You know the songs we're talking about: Absolute classics that even your least music-savvy friends and family \n",
       "members could crush on a karaoke stage. Drawing from decades of rock, pop, funk, dance, hip-hop, and more, this \n",
       "playlist is your key to getting the night started—and keeping it going.\n",
       "\n",
       "|Best \u001b[1;36m18\u001b[0m Songs for a Cozy and Sophisticated Dinner \n",
       "Party\u001b[1m]\u001b[0m\u001b[1m(\u001b[0m\u001b[4;94mhttps://www.wokewaves.com/posts/perfect-songs-for-intimate-dinner-party\u001b[0m\u001b[4;94m)\u001b[0m\n",
       "From smooth jazz to soulful ballads, these \u001b[1;36m18\u001b[0m songs are the perfect backdrop for meaningful conversations, \n",
       "delicious food, and lasting memories. Set the mood with this sophisticated selection of tracks that will make your \n",
       "dinner party truly special. \u001b[1;36m1\u001b[0m. \u001b[32m\"La Vie en Rose\"\u001b[0m - Louis Armstrong\n",
       "\n",
       "|Top \u001b[1;36m10\u001b[0m Best Music Albums For Your Dinner Party - domino\u001b[1m]\u001b[0m\u001b[1m(\u001b[0m\u001b[4;94mhttps://www.domino.com/content/best-dinner-party-music/\u001b[0m\u001b[4;94m)\u001b[0m\n",
       "But only the most skilled of hosts know that the secret to mastering mood is music. Read on for the best dinner \n",
       "party albums you could \u001b[1m(\u001b[0mshould\u001b[1m)\u001b[0m play at your next gathering. Green Onions, Booker T. & the MG's. This classic Stax \n",
       "record features only instruments, no vocals, leaving plenty of room for chatter. Don't be surprised, though, if you\n",
       "\u001b[33m...\u001b[0m\n"
      ]
     },
     "metadata": {},
     "output_type": "display_data"
    },
    {
     "data": {
      "text/html": [
       "<pre style=\"white-space:pre;overflow-x:auto;line-height:normal;font-family:Menlo,'DejaVu Sans Mono',consolas,'Courier New',monospace\"><span style=\"color: #7f7f7f; text-decoration-color: #7f7f7f\">[Step 1: Duration 5.18 seconds| Input tokens: 1,174 | Output tokens: 27]</span>\n",
       "</pre>\n"
      ],
      "text/plain": [
       "\u001b[2m[Step 1: Duration 5.18 seconds| Input tokens: 1,174 | Output tokens: 27]\u001b[0m\n"
      ]
     },
     "metadata": {},
     "output_type": "display_data"
    },
    {
     "data": {
      "text/html": [
       "<pre style=\"white-space:pre;overflow-x:auto;line-height:normal;font-family:Menlo,'DejaVu Sans Mono',consolas,'Courier New',monospace\"><span style=\"color: #d4b702; text-decoration-color: #d4b702\">━━━━━━━━━━━━━━━━━━━━━━━━━━━━━━━━━━━━━━━━━━━━━━━━━━━━━ </span><span style=\"font-weight: bold\">Step </span><span style=\"color: #008080; text-decoration-color: #008080; font-weight: bold\">2</span><span style=\"color: #d4b702; text-decoration-color: #d4b702\"> ━━━━━━━━━━━━━━━━━━━━━━━━━━━━━━━━━━━━━━━━━━━━━━━━━━━━━━</span>\n",
       "</pre>\n"
      ],
      "text/plain": [
       "\u001b[38;2;212;183;2m━━━━━━━━━━━━━━━━━━━━━━━━━━━━━━━━━━━━━━━━━━━━━━━━━━━━━ \u001b[0m\u001b[1mStep \u001b[0m\u001b[1;36m2\u001b[0m\u001b[38;2;212;183;2m ━━━━━━━━━━━━━━━━━━━━━━━━━━━━━━━━━━━━━━━━━━━━━━━━━━━━━━\u001b[0m\n"
      ]
     },
     "metadata": {},
     "output_type": "display_data"
    },
    {
     "data": {
      "text/html": [
       "<pre style=\"white-space:pre;overflow-x:auto;line-height:normal;font-family:Menlo,'DejaVu Sans Mono',consolas,'Courier New',monospace\">╭─────────────────────────────────────────────────────────────────────────────────────────────────────────────────╮\n",
       "│ Calling tool: 'final_answer' with arguments: {'answer': 'For a party at Wayne\\'s mansion, consider creating a   │\n",
       "│ mix of classic and modern dance hits to cater to a wide range of guests. Here are some genre-specific           │\n",
       "│ recommendations from the search results:\\\\n1. **Ultimate Party Hits**: \"September\" by Earth, Wind &amp; Fire,       │\n",
       "│ \"Branded merchandise adds flair to any occasion, just like the perfect playlist. 200 classic house party songs  │\n",
       "│ everyone knows set the mood, bringing energy to every celebration\"\\\\n2. **Sophisticated Dinner Party Music**:   │\n",
       "│ The top 18 songs for a cozy and sophisticated dinner party include Louis Armstrong\\'s \"La Vie en Rose\" and      │\n",
       "│ other smooth jazz and soulful ballads.\\\\n3. **Upbeat Cocktail Music**: Options like Shakey Graves\\' \"Mansion    │\n",
       "│ Door\" can add an indie twist to your playlist while keeping the energy high during cocktail hour.\\\\n4. **Local  │\n",
       "│ Band Performances**: Check out Thursday evening performances at the Dey Mansion in Wayne, NJ, featuring local   │\n",
       "│ bands for a unique touch to your event.\\\\n5. **Apple Music Playlists**: Use curated playlists like Party        │\n",
       "│ Starters on Apple Music for classics that everyone can enjoy, or create your playlist based on the recommended  │\n",
       "│ genres and artists.'}                                                                                           │\n",
       "╰─────────────────────────────────────────────────────────────────────────────────────────────────────────────────╯\n",
       "</pre>\n"
      ],
      "text/plain": [
       "╭─────────────────────────────────────────────────────────────────────────────────────────────────────────────────╮\n",
       "│ Calling tool: 'final_answer' with arguments: {'answer': 'For a party at Wayne\\'s mansion, consider creating a   │\n",
       "│ mix of classic and modern dance hits to cater to a wide range of guests. Here are some genre-specific           │\n",
       "│ recommendations from the search results:\\\\n1. **Ultimate Party Hits**: \"September\" by Earth, Wind & Fire,       │\n",
       "│ \"Branded merchandise adds flair to any occasion, just like the perfect playlist. 200 classic house party songs  │\n",
       "│ everyone knows set the mood, bringing energy to every celebration\"\\\\n2. **Sophisticated Dinner Party Music**:   │\n",
       "│ The top 18 songs for a cozy and sophisticated dinner party include Louis Armstrong\\'s \"La Vie en Rose\" and      │\n",
       "│ other smooth jazz and soulful ballads.\\\\n3. **Upbeat Cocktail Music**: Options like Shakey Graves\\' \"Mansion    │\n",
       "│ Door\" can add an indie twist to your playlist while keeping the energy high during cocktail hour.\\\\n4. **Local  │\n",
       "│ Band Performances**: Check out Thursday evening performances at the Dey Mansion in Wayne, NJ, featuring local   │\n",
       "│ bands for a unique touch to your event.\\\\n5. **Apple Music Playlists**: Use curated playlists like Party        │\n",
       "│ Starters on Apple Music for classics that everyone can enjoy, or create your playlist based on the recommended  │\n",
       "│ genres and artists.'}                                                                                           │\n",
       "╰─────────────────────────────────────────────────────────────────────────────────────────────────────────────────╯\n"
      ]
     },
     "metadata": {},
     "output_type": "display_data"
    },
    {
     "data": {
      "text/html": [
       "<pre style=\"white-space:pre;overflow-x:auto;line-height:normal;font-family:Menlo,'DejaVu Sans Mono',consolas,'Courier New',monospace\"><span style=\"color: #d4b702; text-decoration-color: #d4b702; font-weight: bold\">Final answer: For a party at Wayne's mansion, consider creating a mix of classic and modern dance hits to cater to </span>\n",
       "<span style=\"color: #d4b702; text-decoration-color: #d4b702; font-weight: bold\">a wide range of guests. Here are some genre-specific recommendations from the search results:\\n1. **Ultimate Party </span>\n",
       "<span style=\"color: #d4b702; text-decoration-color: #d4b702; font-weight: bold\">Hits**: \"September\" by Earth, Wind &amp; Fire, \"Branded merchandise adds flair to any occasion, just like the perfect </span>\n",
       "<span style=\"color: #d4b702; text-decoration-color: #d4b702; font-weight: bold\">playlist. 200 classic house party songs everyone knows set the mood, bringing energy to every celebration\"\\n2. </span>\n",
       "<span style=\"color: #d4b702; text-decoration-color: #d4b702; font-weight: bold\">**Sophisticated Dinner Party Music**: The top 18 songs for a cozy and sophisticated dinner party include Louis </span>\n",
       "<span style=\"color: #d4b702; text-decoration-color: #d4b702; font-weight: bold\">Armstrong's \"La Vie en Rose\" and other smooth jazz and soulful ballads.\\n3. **Upbeat Cocktail Music**: Options like</span>\n",
       "<span style=\"color: #d4b702; text-decoration-color: #d4b702; font-weight: bold\">Shakey Graves' \"Mansion Door\" can add an indie twist to your playlist while keeping the energy high during cocktail</span>\n",
       "<span style=\"color: #d4b702; text-decoration-color: #d4b702; font-weight: bold\">hour.\\n4. **Local Band Performances**: Check out Thursday evening performances at the Dey Mansion in Wayne, NJ, </span>\n",
       "<span style=\"color: #d4b702; text-decoration-color: #d4b702; font-weight: bold\">featuring local bands for a unique touch to your event.\\n5. **Apple Music Playlists**: Use curated playlists like </span>\n",
       "<span style=\"color: #d4b702; text-decoration-color: #d4b702; font-weight: bold\">Party Starters on Apple Music for classics that everyone can enjoy, or create your playlist based on the </span>\n",
       "<span style=\"color: #d4b702; text-decoration-color: #d4b702; font-weight: bold\">recommended genres and artists.</span>\n",
       "</pre>\n"
      ],
      "text/plain": [
       "\u001b[1;38;2;212;183;2mFinal answer: For a party at Wayne's mansion, consider creating a mix of classic and modern dance hits to cater to \u001b[0m\n",
       "\u001b[1;38;2;212;183;2ma wide range of guests. Here are some genre-specific recommendations from the search results:\\n1. **Ultimate Party \u001b[0m\n",
       "\u001b[1;38;2;212;183;2mHits**: \"September\" by Earth, Wind & Fire, \"Branded merchandise adds flair to any occasion, just like the perfect \u001b[0m\n",
       "\u001b[1;38;2;212;183;2mplaylist. 200 classic house party songs everyone knows set the mood, bringing energy to every celebration\"\\n2. \u001b[0m\n",
       "\u001b[1;38;2;212;183;2m**Sophisticated Dinner Party Music**: The top 18 songs for a cozy and sophisticated dinner party include Louis \u001b[0m\n",
       "\u001b[1;38;2;212;183;2mArmstrong's \"La Vie en Rose\" and other smooth jazz and soulful ballads.\\n3. **Upbeat Cocktail Music**: Options like\u001b[0m\n",
       "\u001b[1;38;2;212;183;2mShakey Graves' \"Mansion Door\" can add an indie twist to your playlist while keeping the energy high during cocktail\u001b[0m\n",
       "\u001b[1;38;2;212;183;2mhour.\\n4. **Local Band Performances**: Check out Thursday evening performances at the Dey Mansion in Wayne, NJ, \u001b[0m\n",
       "\u001b[1;38;2;212;183;2mfeaturing local bands for a unique touch to your event.\\n5. **Apple Music Playlists**: Use curated playlists like \u001b[0m\n",
       "\u001b[1;38;2;212;183;2mParty Starters on Apple Music for classics that everyone can enjoy, or create your playlist based on the \u001b[0m\n",
       "\u001b[1;38;2;212;183;2mrecommended genres and artists.\u001b[0m\n"
      ]
     },
     "metadata": {},
     "output_type": "display_data"
    },
    {
     "data": {
      "text/html": [
       "<pre style=\"white-space:pre;overflow-x:auto;line-height:normal;font-family:Menlo,'DejaVu Sans Mono',consolas,'Courier New',monospace\"><span style=\"color: #7f7f7f; text-decoration-color: #7f7f7f\">[Step 2: Duration 8.92 seconds| Input tokens: 3,488 | Output tokens: 293]</span>\n",
       "</pre>\n"
      ],
      "text/plain": [
       "\u001b[2m[Step 2: Duration 8.92 seconds| Input tokens: 3,488 | Output tokens: 293]\u001b[0m\n"
      ]
     },
     "metadata": {},
     "output_type": "display_data"
    },
    {
     "data": {
      "text/plain": [
       "'For a party at Wayne\\'s mansion, consider creating a mix of classic and modern dance hits to cater to a wide range of guests. Here are some genre-specific recommendations from the search results:\\\\n1. **Ultimate Party Hits**: \"September\" by Earth, Wind & Fire, \"Branded merchandise adds flair to any occasion, just like the perfect playlist. 200 classic house party songs everyone knows set the mood, bringing energy to every celebration\"\\\\n2. **Sophisticated Dinner Party Music**: The top 18 songs for a cozy and sophisticated dinner party include Louis Armstrong\\'s \"La Vie en Rose\" and other smooth jazz and soulful ballads.\\\\n3. **Upbeat Cocktail Music**: Options like Shakey Graves\\' \"Mansion Door\" can add an indie twist to your playlist while keeping the energy high during cocktail hour.\\\\n4. **Local Band Performances**: Check out Thursday evening performances at the Dey Mansion in Wayne, NJ, featuring local bands for a unique touch to your event.\\\\n5. **Apple Music Playlists**: Use curated playlists like Party Starters on Apple Music for classics that everyone can enjoy, or create your playlist based on the recommended genres and artists.'"
      ]
     },
     "execution_count": 2,
     "metadata": {},
     "output_type": "execute_result"
    }
   ],
   "source": [
    "from smolagents import ToolCallingAgent, DuckDuckGoSearchTool, HfApiModel\n",
    "\n",
    "agent = ToolCallingAgent(tools=[DuckDuckGoSearchTool()], model=HfApiModel(model_id='https://pflgm2locj2t89co.us-east-1.aws.endpoints.huggingface.cloud/'))\n",
    "\n",
    "agent.run(\"Search for the best music recommendations for a party at the Wayne's mansion.\")"
   ]
  },
  {
   "cell_type": "markdown",
   "metadata": {
    "id": "Cl19VWGRYXrr"
   },
   "source": [
    "\n",
    "When you examine the agent's trace, instead of seeing `Executing parsed code:`, you'll see something like:\n",
    "\n",
    "```text\n",
    "╭─────────────────────────────────────────────────────────────────────────────────────────────────────────────────╮\n",
    "│ Calling tool: 'web_search' with arguments: {'query': \"best music recommendations for a party at Wayne's         │\n",
    "│ mansion\"}                                                                                                       │\n",
    "╰─────────────────────────────────────────────────────────────────────────────────────────────────────────────────╯\n",
    "```  \n",
    "\n",
    "The agent generates a structured tool call that the system processes to produce the output, rather than directly executing code like a `CodeAgent`.\n",
    "\n",
    "Now that we understand both agent types, we can choose the right one for our needs. Let's continue exploring `smolagents` to make Alfred's party a success! 🎉"
   ]
  }
 ],
 "metadata": {
  "colab": {
   "provenance": []
  },
  "kernelspec": {
   "display_name": "Python 3 (ipykernel)",
   "language": "python",
   "name": "python3"
  },
  "language_info": {
   "codemirror_mode": {
    "name": "ipython",
    "version": 3
   },
   "file_extension": ".py",
   "mimetype": "text/x-python",
   "name": "python",
   "nbconvert_exporter": "python",
   "pygments_lexer": "ipython3",
   "version": "3.10.0"
  }
 },
 "nbformat": 4,
 "nbformat_minor": 4
}
